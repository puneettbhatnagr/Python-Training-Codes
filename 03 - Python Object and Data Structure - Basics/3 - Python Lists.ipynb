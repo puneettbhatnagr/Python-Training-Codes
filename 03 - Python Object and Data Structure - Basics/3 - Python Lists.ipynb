{
 "cells": [
  {
   "cell_type": "markdown",
   "metadata": {},
   "source": [
    "<p style=\"text-align:right;\">\n",
    "    <em>Content Copyrighted by Puneett Bhatnagr</em>\n",
    "</p>\n"
   ]
  },
  {
   "cell_type": "markdown",
   "metadata": {},
   "source": [
    "# Lists\n",
    "___\n",
    "\n",
    "Earlier when discussing strings, we introduced the concept of a *sequence* in Python. \n",
    "\n",
    "Lists can be thought as the most general version of a *sequence* in Python. \n",
    "\n",
    "\n",
    "## What are Lists in Python?\n",
    "\n",
    "- List is an ordered sequence of items. It is one of the most used datatype in Python and is very flexible. \n",
    "\n",
    "- Lists are one of the most frequently used built-in data structures in Python. \n",
    "\n",
    "- You can create a list by placing all the items inside square brackets [ ], separated by commas. \n",
    "\n",
    "- Lists are mutable, meaning, the value of elements of a list can be altered.\n",
    "\n",
    "- All the items in a list do not need to be of the same type.\n",
    "\n",
    "- Lists can contain any type of object and this makes them very useful and versatile.\n",
    "\n",
    "## Fundamental Characteristics of Python lists are as follows; \n",
    "\n",
    "<ul>\n",
    "<li>New elements can be added or removed in runtime. Lists are not fixed-size objects, so they are called <b>dynamic data structures.</b></li>\n",
    "<li>The order in which you specify the elements when you define a list is maintained so lists are <b>ordered.</b></li>\n",
    "<li>Lists can be changed after they have created. You can add, remove items or modify the value of available items in a list object. You do not need to have another copy of the list object for revising it. So they are called <b>mutable objects.</b></li>\n",
    "<li>Although Python lists are not fixed-size and constrained like arrays in C++ or Java, they are still array type data structures where the items contained are stored in memory sequentially and accessed by an index number representing the memory block for a specific element.</li>\n",
    "<li>A list object can contain <b>duplicate</b> elements.</li>\n",
    "</ul>\n",
    "\n",
    "\n",
    "## When to Use Lists?\n",
    "\n",
    "Let’s get a basic understanding of when to use lists over another data structure;\n",
    "\n",
    "<ul>\n",
    "<li>When we want to store a collection of heterogeneous objects in a single data structure. We can store any of the primitive data structures (integers, strings, etc) as well as compound data structures (lists, sets, tuples, dictionaries, etc) inside a single list object.</li>\n",
    "<li>When we want to keep the order of data unchanged. The order we put the items into the lists is preserved, we can access the elements with the same order as we put them in.</li>\n",
    "<li>As lists are mutable, it is not a good idea to use them to store data that shouldn’t be modified in the first place.</li>\n",
    "</ul>\n",
    "\n",
    "\n",
    "##  List Syntax\n",
    "\n",
    "List_variable = [val1, val2, ….. ]\n",
    "\n",
    "\n",
    "\n",
    "\n",
    "## In this section we will learn about:\n",
    "    \n",
    "    1). Creating lists\n",
    "    2). Indexing and Slicing Lists\n",
    "    3). Basic List Methods\n",
    "    4). Nesting Lists\n",
    "   \n",
    "Let's go ahead and see how we can Create lists!"
   ]
  },
  {
   "cell_type": "markdown",
   "metadata": {},
   "source": [
    "# 1). Creating Lists\n",
    "___\n"
   ]
  },
  {
   "cell_type": "code",
   "execution_count": 1,
   "metadata": {},
   "outputs": [],
   "source": [
    "# Assign a list to an variable named my_list\n",
    "my_list = [1,2,3]"
   ]
  },
  {
   "cell_type": "markdown",
   "metadata": {},
   "source": [
    "We just created a list of integers, but lists can actually hold different object types. For example:"
   ]
  },
  {
   "cell_type": "code",
   "execution_count": 2,
   "metadata": {},
   "outputs": [],
   "source": [
    "my_list = ['A string',23,100.23]"
   ]
  },
  {
   "cell_type": "markdown",
   "metadata": {},
   "source": [
    "Let's now Add / Delete List\n",
    "\n",
    "## Add / Change List\n",
    "___\n",
    "\n",
    "Lists are mutable, meaning their elements can be changed unlike string or tuple.\n",
    "\n",
    "We can use assignment operator = to change an item or a range of items.\n"
   ]
  },
  {
   "cell_type": "code",
   "execution_count": 3,
   "metadata": {},
   "outputs": [],
   "source": [
    "add_list = [1,2,3]"
   ]
  },
  {
   "cell_type": "code",
   "execution_count": 4,
   "metadata": {},
   "outputs": [
    {
     "name": "stdout",
     "output_type": "stream",
     "text": [
      "[5, 2, 3]\n"
     ]
    }
   ],
   "source": [
    "add_list [0] = 5\n",
    "print(add_list)"
   ]
  },
  {
   "cell_type": "markdown",
   "metadata": {},
   "source": [
    "## Delete / Remove List\n",
    "___\n",
    "\n",
    "delete one or more items from a list using keyword del\n"
   ]
  },
  {
   "cell_type": "code",
   "execution_count": 5,
   "metadata": {},
   "outputs": [
    {
     "name": "stdout",
     "output_type": "stream",
     "text": [
      "['p', 'y', 'h', 'o', 'n']\n"
     ]
    }
   ],
   "source": [
    "my_list = ['p','y','t','h','o','n']\n",
    "del my_list[2] # delete one item\n",
    "print(my_list)"
   ]
  },
  {
   "cell_type": "code",
   "execution_count": 6,
   "metadata": {},
   "outputs": [
    {
     "name": "stdout",
     "output_type": "stream",
     "text": [
      "['p', 'n']\n"
     ]
    }
   ],
   "source": [
    "del my_list[1:4] # delete multiple item\n",
    "print(my_list)"
   ]
  },
  {
   "cell_type": "markdown",
   "metadata": {},
   "source": [
    "Just like strings, list also uses Indexing and Slicing."
   ]
  },
  {
   "cell_type": "markdown",
   "metadata": {},
   "source": [
    "# 2). Indexing and Slicing\n",
    "___\n",
    "\n",
    "Indexing and slicing work just like in strings. Let's make a new list to remind ourselves of how this works:"
   ]
  },
  {
   "cell_type": "code",
   "execution_count": 7,
   "metadata": {},
   "outputs": [],
   "source": [
    "list = ['one','two','three','four','five']"
   ]
  },
  {
   "cell_type": "code",
   "execution_count": 8,
   "metadata": {},
   "outputs": [
    {
     "data": {
      "text/plain": [
       "'one'"
      ]
     },
     "execution_count": 8,
     "metadata": {},
     "output_type": "execute_result"
    }
   ],
   "source": [
    "# Grab element at index 0\n",
    "list[0]"
   ]
  },
  {
   "cell_type": "code",
   "execution_count": 9,
   "metadata": {},
   "outputs": [
    {
     "data": {
      "text/plain": [
       "['two', 'three', 'four', 'five']"
      ]
     },
     "execution_count": 9,
     "metadata": {},
     "output_type": "execute_result"
    }
   ],
   "source": [
    "# Grab index 1 and everything past it\n",
    "list[1:]"
   ]
  },
  {
   "cell_type": "code",
   "execution_count": 10,
   "metadata": {},
   "outputs": [
    {
     "data": {
      "text/plain": [
       "['one', 'two', 'three']"
      ]
     },
     "execution_count": 10,
     "metadata": {},
     "output_type": "execute_result"
    }
   ],
   "source": [
    "# Grab everything UP TO index 3\n",
    "list[:3]"
   ]
  },
  {
   "cell_type": "markdown",
   "metadata": {},
   "source": [
    "# 3). Basic List Operations\n",
    "___\n",
    "\n",
    "List behave in the similar way as strings when operator like + (concatenation) and * (repetition) are used. \n",
    "<br><br>"
   ]
  },
  {
   "cell_type": "code",
   "execution_count": 11,
   "metadata": {},
   "outputs": [],
   "source": [
    "list_new = [1,2,3,4]"
   ]
  },
  {
   "cell_type": "code",
   "execution_count": 12,
   "metadata": {},
   "outputs": [
    {
     "data": {
      "text/plain": [
       "4"
      ]
     },
     "execution_count": 12,
     "metadata": {},
     "output_type": "execute_result"
    }
   ],
   "source": [
    "# Len - returns length of lists\n",
    "len(list_new)"
   ]
  },
  {
   "cell_type": "code",
   "execution_count": 13,
   "metadata": {},
   "outputs": [
    {
     "data": {
      "text/plain": [
       "[1, 2, 3, 4, 6, 7, 8, 9]"
      ]
     },
     "execution_count": 13,
     "metadata": {},
     "output_type": "execute_result"
    }
   ],
   "source": [
    "# Concatenation - Joins two list\n",
    "[1,2,3,4] + [6,7,8,9]"
   ]
  },
  {
   "cell_type": "code",
   "execution_count": 32,
   "metadata": {},
   "outputs": [
    {
     "data": {
      "text/plain": [
       "['one', 'two', 'three', 'four', 'five', 'one', 'two', 'three', 'four', 'five']"
      ]
     },
     "execution_count": 32,
     "metadata": {},
     "output_type": "execute_result"
    }
   ],
   "source": [
    "# Repetition - repeats elemets in list, We can use the * for a duplication method similar to strings:\n",
    "list * 2"
   ]
  },
  {
   "cell_type": "code",
   "execution_count": 33,
   "metadata": {},
   "outputs": [
    {
     "data": {
      "text/plain": [
       "['one', 'two', 'three', 'four', 'five']"
      ]
     },
     "execution_count": 33,
     "metadata": {},
     "output_type": "execute_result"
    }
   ],
   "source": [
    "# Again doubling not permanent\n",
    "list"
   ]
  },
  {
   "cell_type": "markdown",
   "metadata": {},
   "source": [
    "# 3). Basic List Methods\n",
    "___\n",
    "\n",
    "\n",
    "If you are familiar with another programming language, \n",
    "\n",
    "you might start to draw parallels between arrays in another language and lists in Python. \n",
    "\n",
    "Lists in Python however, tend to be more flexible than arrays in other languages for a two good reasons: \n",
    "\n",
    "1. they have no fixed size (meaning we don't have to specify how big a list will be), and \n",
    "\n",
    "2. they have no fixed type constraint (like we've seen above).\n",
    "\n",
    "Let's go ahead and explore some more special methods for lists:"
   ]
  },
  {
   "cell_type": "code",
   "execution_count": 34,
   "metadata": {},
   "outputs": [],
   "source": [
    "# Create a new list\n",
    "list = [1,2,3,4]"
   ]
  },
  {
   "cell_type": "markdown",
   "metadata": {},
   "source": [
    "## Append Method"
   ]
  },
  {
   "cell_type": "markdown",
   "metadata": {},
   "source": [
    "Use the **append** method to permanently add an item to the end of a list:"
   ]
  },
  {
   "cell_type": "code",
   "execution_count": 35,
   "metadata": {},
   "outputs": [],
   "source": [
    "# Append\n",
    "list.append('6')"
   ]
  },
  {
   "cell_type": "code",
   "execution_count": 36,
   "metadata": {},
   "outputs": [
    {
     "data": {
      "text/plain": [
       "[1, 2, 3, 4, '6']"
      ]
     },
     "execution_count": 36,
     "metadata": {},
     "output_type": "execute_result"
    }
   ],
   "source": [
    "# Show\n",
    "list"
   ]
  },
  {
   "cell_type": "markdown",
   "metadata": {},
   "source": [
    "## Pop Method"
   ]
  },
  {
   "cell_type": "markdown",
   "metadata": {},
   "source": [
    "Use **pop** to \"pop off\" an item from the list. \n",
    "\n",
    "By default pop takes off the last index, but you can also specify which index to pop off. \n",
    "\n",
    "Let's see an example:"
   ]
  },
  {
   "cell_type": "code",
   "execution_count": 37,
   "metadata": {},
   "outputs": [
    {
     "data": {
      "text/plain": [
       "1"
      ]
     },
     "execution_count": 37,
     "metadata": {},
     "output_type": "execute_result"
    }
   ],
   "source": [
    "# Pop off the 0 indexed item\n",
    "list.pop(0)"
   ]
  },
  {
   "cell_type": "code",
   "execution_count": 38,
   "metadata": {},
   "outputs": [
    {
     "data": {
      "text/plain": [
       "[2, 3, 4, '6']"
      ]
     },
     "execution_count": 38,
     "metadata": {},
     "output_type": "execute_result"
    }
   ],
   "source": [
    "# Show\n",
    "list"
   ]
  },
  {
   "cell_type": "code",
   "execution_count": 39,
   "metadata": {},
   "outputs": [],
   "source": [
    "# Assign the popped element, remember default popped index is -1\n",
    "pop_item = list.pop()"
   ]
  },
  {
   "cell_type": "code",
   "execution_count": 40,
   "metadata": {},
   "outputs": [
    {
     "data": {
      "text/plain": [
       "'6'"
      ]
     },
     "execution_count": 40,
     "metadata": {},
     "output_type": "execute_result"
    }
   ],
   "source": [
    "pop_item"
   ]
  },
  {
   "cell_type": "code",
   "execution_count": 41,
   "metadata": {},
   "outputs": [
    {
     "data": {
      "text/plain": [
       "[2, 3, 4]"
      ]
     },
     "execution_count": 41,
     "metadata": {},
     "output_type": "execute_result"
    }
   ],
   "source": [
    "# Show remaining list\n",
    "list"
   ]
  },
  {
   "cell_type": "markdown",
   "metadata": {},
   "source": [
    "We can use the **sort** method and the **reverse** methods to also effect your lists:"
   ]
  },
  {
   "cell_type": "markdown",
   "metadata": {},
   "source": [
    "## Reverse Method"
   ]
  },
  {
   "cell_type": "code",
   "execution_count": 42,
   "metadata": {},
   "outputs": [],
   "source": [
    "new_list = ['a','e','x','b','c']"
   ]
  },
  {
   "cell_type": "code",
   "execution_count": 43,
   "metadata": {},
   "outputs": [
    {
     "data": {
      "text/plain": [
       "['a', 'e', 'x', 'b', 'c']"
      ]
     },
     "execution_count": 43,
     "metadata": {},
     "output_type": "execute_result"
    }
   ],
   "source": [
    "#Show\n",
    "new_list"
   ]
  },
  {
   "cell_type": "code",
   "execution_count": 44,
   "metadata": {},
   "outputs": [],
   "source": [
    "# Use reverse to reverse order (this is permanent!)\n",
    "new_list.reverse()"
   ]
  },
  {
   "cell_type": "markdown",
   "metadata": {},
   "source": [
    "## Sort Method"
   ]
  },
  {
   "cell_type": "code",
   "execution_count": 45,
   "metadata": {},
   "outputs": [
    {
     "data": {
      "text/plain": [
       "['c', 'b', 'x', 'e', 'a']"
      ]
     },
     "execution_count": 45,
     "metadata": {},
     "output_type": "execute_result"
    }
   ],
   "source": [
    "new_list"
   ]
  },
  {
   "cell_type": "code",
   "execution_count": 46,
   "metadata": {},
   "outputs": [],
   "source": [
    "# Use sort to sort the list (in this case alphabetical order, but for numbers it will go ascending)\n",
    "new_list.sort()"
   ]
  },
  {
   "cell_type": "code",
   "execution_count": 47,
   "metadata": {},
   "outputs": [
    {
     "data": {
      "text/plain": [
       "['a', 'b', 'c', 'e', 'x']"
      ]
     },
     "execution_count": 47,
     "metadata": {},
     "output_type": "execute_result"
    }
   ],
   "source": [
    "new_list"
   ]
  },
  {
   "cell_type": "markdown",
   "metadata": {},
   "source": [
    "### Below are the some more special methods for lists"
   ]
  },
  {
   "cell_type": "markdown",
   "metadata": {},
   "source": [
    "<table style=\"margin-left: 0px;\">\n",
    "<tr>\n",
    "<th>Method</th>\n",
    "<th>Description</th>\n",
    "</tr>\n",
    "<tr>\n",
    "<td>append()</td>\n",
    "<td>Adds an element at the end of the list</td>\n",
    "</tr>\n",
    "\n",
    "<tr>\n",
    "<td>clear()</td>\n",
    "<td>Removes all the elements from the list</td>\n",
    "</tr>\n",
    "\n",
    "<tr>\n",
    "<td>copy()</td>\n",
    "<td>Returns a copy of the list</td>\n",
    "</tr>\n",
    "\n",
    "<tr>\n",
    "<td>count()</td>\n",
    "<td>Returns the number of elements with the specified value</td>\n",
    "</tr>\n",
    "\n",
    "<tr>\n",
    "<td>extend()</td>\n",
    "<td>Add the elements of a list (or any iterable), to the end of the current list</td>\n",
    "</tr>\n",
    "\n",
    "<tr>\n",
    "<td>index()</td>\n",
    "<td>Returns the index of the first element with the specified value</td>\n",
    "</tr>\n",
    "\n",
    "<tr>\n",
    "<td>insert()</td>\n",
    "<td>Adds an element at the specified position</td>\n",
    "</tr>\n",
    "\n",
    "<tr>\n",
    "<td>pop()</td>\n",
    "<td>Removes the element at the specified position</td>\n",
    "</tr>\n",
    "\n",
    "<tr>\n",
    "<td>remove()</td>\n",
    "<td>Removes the item with the specified value</td>\n",
    "</tr>\n",
    "\n",
    "<tr>\n",
    "<td>reverse()</td>\n",
    "<td>Reverses the order of the list</td></tr>\n",
    "\n",
    "<tr>\n",
    "<td>sort()</td>\n",
    "<td>Sorts the list</td></tr>\n",
    "\n",
    "</table>"
   ]
  },
  {
   "cell_type": "markdown",
   "metadata": {},
   "source": [
    "# 4). Nesting Lists\n",
    "___\n",
    "\n",
    "A great feature of of Python data structures is that they support *nesting*. \n",
    "\n",
    "This means we can have data structures within data structures. For example: A list inside a list.\n",
    "\n",
    "Let's see how this works!"
   ]
  },
  {
   "cell_type": "code",
   "execution_count": 48,
   "metadata": {},
   "outputs": [],
   "source": [
    "# Let's make three lists\n",
    "newlist_1=[1,2,3]\n",
    "newlist_2=[4,5,6]\n",
    "newlist_3=[7,8,9]\n",
    "\n",
    "# Make a list of lists to form a matrix\n",
    "matrix = [newlist_1,newlist_2,newlist_3]"
   ]
  },
  {
   "cell_type": "code",
   "execution_count": 49,
   "metadata": {},
   "outputs": [
    {
     "data": {
      "text/plain": [
       "[[1, 2, 3], [4, 5, 6], [7, 8, 9]]"
      ]
     },
     "execution_count": 49,
     "metadata": {},
     "output_type": "execute_result"
    }
   ],
   "source": [
    "# Show\n",
    "matrix"
   ]
  },
  {
   "cell_type": "markdown",
   "metadata": {},
   "source": [
    "We can again use indexing to grab elements, but now there are two levels for the index. The items in the matrix object, and then the items inside that list!"
   ]
  },
  {
   "cell_type": "code",
   "execution_count": 50,
   "metadata": {},
   "outputs": [
    {
     "data": {
      "text/plain": [
       "[1, 2, 3]"
      ]
     },
     "execution_count": 50,
     "metadata": {},
     "output_type": "execute_result"
    }
   ],
   "source": [
    "# Grab first item in matrix object\n",
    "matrix[0]"
   ]
  },
  {
   "cell_type": "code",
   "execution_count": 51,
   "metadata": {},
   "outputs": [
    {
     "data": {
      "text/plain": [
       "1"
      ]
     },
     "execution_count": 51,
     "metadata": {},
     "output_type": "execute_result"
    }
   ],
   "source": [
    "# Grab first item of the first item in the matrix object\n",
    "matrix[0][0]"
   ]
  },
  {
   "cell_type": "markdown",
   "metadata": {},
   "source": [
    "# Let's Summarise what we learn\n",
    "___\n",
    "\n",
    "\n",
    "So what we learned in this Topic -\n",
    "\n",
    "- List is an ordered sequence of items. It is one of the most used datatype in Python and is very flexible. \n",
    "\n",
    "- Lists are mutable, meaning, the value of elements of a list can be altered.\n",
    "\n",
    "- Separated by commas, List is created using square brackets [ ]\n",
    "\n",
    "- Access a range of items in a list by using slicing operator : (colon)\n",
    "\n",
    "\n",
    "Other Methods to Add / Change List:\n",
    "\n",
    "- append ( ) method – Add one item to a list\n",
    "\n",
    "- extend ( ) method – Add several items\n",
    "\n",
    "- Concatenation method – Combine 2 list using + operator\n",
    "\n",
    "- *operator method – repeats a list for given number of times\n",
    "\n",
    "- insert ( ) method – inserts one item at a desired location or insert multiple items\n",
    "\n",
    "\n",
    "A list comprehension consists of an expression followed by for statement inside square brackets.\n",
    "\n",
    "\n",
    "## Lets now move to next Topic - Dictionaries!\n"
   ]
  },
  {
   "cell_type": "markdown",
   "metadata": {},
   "source": [
    "\n",
    "\n",
    "\n",
    "___\n",
    "\n",
    "<p style=\"text-align:right;\">\n",
    "    <em>Content Copyrighted by Puneett Bhatnagr</em>\n",
    "</p>"
   ]
  },
  {
   "cell_type": "code",
   "execution_count": null,
   "metadata": {},
   "outputs": [],
   "source": []
  }
 ],
 "metadata": {
  "kernelspec": {
   "display_name": "Python 3",
   "language": "python",
   "name": "python3"
  },
  "language_info": {
   "codemirror_mode": {
    "name": "ipython",
    "version": 3
   },
   "file_extension": ".py",
   "mimetype": "text/x-python",
   "name": "python",
   "nbconvert_exporter": "python",
   "pygments_lexer": "ipython3",
   "version": "3.8.8"
  }
 },
 "nbformat": 4,
 "nbformat_minor": 1
}
