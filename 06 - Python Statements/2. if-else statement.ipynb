{
 "cells": [
  {
   "cell_type": "markdown",
   "id": "f153ab15",
   "metadata": {},
   "source": [
    "<p style=\"text-align:right;\">\n",
    "    <em>Content Copyrighted by Puneett Bhatnagr</em>\n",
    "</p>\n",
    "\n",
    "# if-else statements\n",
    "___\n",
    "\n",
    "We have studied that using if statement plays a vital role in conditional branching. Its usage is very simple.\n",
    "\n",
    "The test expression is evaluated and if the result is True, the statement followed by the expression is executed, else if the expression is False, the statement is skipped by the compiler.\n",
    "\n",
    "But what if you want a separate set of statements to be executed when the expression returns a zero value?\n",
    "In such case, we use an if-else statement rather than using simple if statement.\n",
    "\n",
    "The general form of a simple if-statement is shown in figure.\n",
    "\n",
    "According to the if-else construct, first the test expression is evaluated. \n",
    "\n",
    "If the expression is True, Statement block 1 is executed and statement block 2 is skipped.\n",
    "\n",
    "Otherwise, if the expression is False, Statement block 2 is executed and statement block 1 is ignored.\n",
    "\n",
    "Now in case after the statement block 1 or 2 gets executed will pass to statement x.\n",
    "\n",
    "Therefore, statement x is executed in every case. \n"
   ]
  },
  {
   "cell_type": "markdown",
   "id": "dc51c8d4",
   "metadata": {},
   "source": [
    "## Example 1 - Write a program to find larger of two numbers?"
   ]
  },
  {
   "cell_type": "code",
   "execution_count": null,
   "id": "a19815f0",
   "metadata": {},
   "outputs": [],
   "source": [
    "a = int(input(\"Enter the value of a : \"))\n",
    "b = int(input(\"Enter the value of b : \"))\n",
    "if(a>b):\n",
    "    large = a\n",
    "else:\n",
    "    large = b\n",
    "print (\"Large = \",large)"
   ]
  },
  {
   "cell_type": "markdown",
   "id": "a54ac06e",
   "metadata": {},
   "source": [
    "## Example 2 - Write a program to find whether the given number is even or odd?"
   ]
  },
  {
   "cell_type": "code",
   "execution_count": null,
   "id": "e6150715",
   "metadata": {},
   "outputs": [],
   "source": [
    "num = int(input(\"Enter the number : \"))\n",
    "if(num%2==0):\n",
    "    print(num,\"is even\")\n",
    "else:\n",
    "    print(num,\"is odd\")"
   ]
  },
  {
   "cell_type": "markdown",
   "id": "d72cde62",
   "metadata": {},
   "source": [
    "#### Great, we have learned if Statement, \n",
    "\n",
    "## let's discuss Nested statement.\n",
    "\n",
    "___\n",
    "\n",
    "<p style=\"text-align:right;\">\n",
    "    <em>Content Copyrighted by Puneett Bhatnagr</em>\n",
    "</p>"
   ]
  },
  {
   "cell_type": "code",
   "execution_count": null,
   "id": "4be5ebc5",
   "metadata": {},
   "outputs": [],
   "source": []
  }
 ],
 "metadata": {
  "kernelspec": {
   "display_name": "Python 3",
   "language": "python",
   "name": "python3"
  },
  "language_info": {
   "codemirror_mode": {
    "name": "ipython",
    "version": 3
   },
   "file_extension": ".py",
   "mimetype": "text/x-python",
   "name": "python",
   "nbconvert_exporter": "python",
   "pygments_lexer": "ipython3",
   "version": "3.8.8"
  }
 },
 "nbformat": 4,
 "nbformat_minor": 5
}
