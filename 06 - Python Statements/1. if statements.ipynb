{
 "cells": [
  {
   "cell_type": "markdown",
   "id": "ae083faf",
   "metadata": {},
   "source": [
    "<p style=\"text-align:right;\">\n",
    "    <em>Content Copyrighted by Puneett Bhatnagr</em>\n",
    "</p>\n",
    "\n",
    "# if statements\n",
    "___\n",
    "\n",
    "Let’s talk about if statement.\n",
    "\n",
    "The if statement is the simplest form of decision control statement that is frequently used in decision making.\n",
    "\n",
    "An if statement is a selection control statement based on the value of a given Boolean expression. \n",
    "\n",
    "The if structure may include 1 statement or n statements enclosed within the if block. \n",
    "\n",
    "1st the test expression is evaluated. \n",
    "\n",
    "If the test expression is True, the statement of if block is executed, otherwise those statement will be skipped, and execution will jump to statement x.\n",
    "\n",
    "### Example 1 - Program to increment a Number if it is Positive?"
   ]
  },
  {
   "cell_type": "code",
   "execution_count": 4,
   "id": "5aa341f7",
   "metadata": {},
   "outputs": [
    {
     "name": "stdout",
     "output_type": "stream",
     "text": [
      "11\n"
     ]
    }
   ],
   "source": [
    "x = 10 # initialize the value of x\n",
    "if(x>0): # test the value of x\n",
    "    x=x+1 # increment the value of x if it is > 0\n",
    "print(x) # print the value of x"
   ]
  },
  {
   "cell_type": "markdown",
   "id": "b3ace499",
   "metadata": {},
   "source": [
    "In the above code, we take a variable x and initialize it to 10. \n",
    "\n",
    "In the test expression, we check if the value of x is greater than 0.\n",
    "\n",
    "If the test expression evaluates to True, then the value of x is incremented. \n",
    "\n",
    "Then the value of x is printed on the screen. \n",
    "\n",
    "The output of this program is x =1.\n",
    "\n",
    "Observe that the print statement will be executed even if the test expression is False.\n",
    "\n",
    "Python indentation to form a block of code.\n",
    "\n",
    "Other languages such a C and C++ use curly braces to accomplish this."
   ]
  },
  {
   "cell_type": "markdown",
   "id": "4e8bdeec",
   "metadata": {},
   "source": [
    "Let's take few examples to learn better.\n",
    "\n",
    "### Example 2 - Write a program to determine whether a person is eligible to vote"
   ]
  },
  {
   "cell_type": "code",
   "execution_count": 5,
   "id": "32eb5987",
   "metadata": {},
   "outputs": [
    {
     "name": "stdout",
     "output_type": "stream",
     "text": [
      "Enter the age:35\n",
      "You are eligible to vote\n"
     ]
    }
   ],
   "source": [
    "age = int(input(\"Enter the age:\"))\n",
    "if(age>=18):\n",
    "    print(\"You are eligible to vote\")"
   ]
  },
  {
   "cell_type": "markdown",
   "id": "262f9691",
   "metadata": {},
   "source": [
    "### Example 3 - Write a program to determine the chracter entered by the user."
   ]
  },
  {
   "cell_type": "code",
   "execution_count": 6,
   "id": "49b965c0",
   "metadata": {},
   "outputs": [
    {
     "name": "stdout",
     "output_type": "stream",
     "text": [
      "Press any Key: 1\n",
      "The user has entered a digit\n"
     ]
    }
   ],
   "source": [
    "char = input(\"Press any Key: \")\n",
    "if (char.isalpha()):\n",
    "    print(\"The user has entered a character\")\n",
    "if (char.isdigit()):\n",
    "    print(\"The user has entered a digit\")\n",
    "if (char.isspace()):\n",
    "    print(\"The user entered a white space character\")"
   ]
  },
  {
   "cell_type": "markdown",
   "id": "104cf72d",
   "metadata": {},
   "source": [
    "#### Great, we have learned if Statement, \n",
    "\n",
    "## let's discuss if-else statement.\n",
    "\n",
    "___\n",
    "\n",
    "<p style=\"text-align:right;\">\n",
    "    <em>Content Copyrighted by Puneett Bhatnagr</em>\n",
    "</p>"
   ]
  },
  {
   "cell_type": "code",
   "execution_count": null,
   "id": "bd8cf27f",
   "metadata": {},
   "outputs": [],
   "source": []
  }
 ],
 "metadata": {
  "kernelspec": {
   "display_name": "Python 3",
   "language": "python",
   "name": "python3"
  },
  "language_info": {
   "codemirror_mode": {
    "name": "ipython",
    "version": 3
   },
   "file_extension": ".py",
   "mimetype": "text/x-python",
   "name": "python",
   "nbconvert_exporter": "python",
   "pygments_lexer": "ipython3",
   "version": "3.8.8"
  }
 },
 "nbformat": 4,
 "nbformat_minor": 5
}
