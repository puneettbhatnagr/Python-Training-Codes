{
 "cells": [
  {
   "cell_type": "markdown",
   "id": "80d7d826",
   "metadata": {},
   "source": [
    "<p style=\"text-align:right;\">\n",
    "    <em>Content Copyrighted by Puneett Bhatnagr</em>\n",
    "</p>\n",
    "\n",
    "# Python Membership Operator\n",
    "___\n"
   ]
  },
  {
   "cell_type": "markdown",
   "id": "5faad734",
   "metadata": {},
   "source": [
    "Membership operators are used to test if a sequence is presented in an object:\n",
    "\n",
    "<table class=\"table table-bordered\">\n",
    "    \n",
    "<tr>\n",
    "   <th style=\"width:10%; text-align: center;\">Operator</th>\n",
    "   <th style=\"width:30%; text-align: center;\">Description</th>\n",
    "   <th style=\"width:10%; text-align: center;\">Example</th>\n",
    "</tr>\n",
    "    \n",
    "<tr>\n",
    "<td style=\"text-align: center;\">in</td>\n",
    "<td style=\"text-align: left;\">Returns True if a sequence with the specified value is present in the object</td>\n",
    "<td style=\"text-align: center;\">x in y</td>\n",
    "</tr>\n",
    "    \n",
    "<tr>\n",
    "<td style=\"text-align: center;\">not in</td>\n",
    "<td style=\"text-align: left;\">\tReturns True if a sequence with the specified value is not present in the object</td>\n",
    "<td style=\"text-align: center;\">x not in y</td>\n",
    "</tr>\n",
    "    \n",
    "</table>    \n",
    "    \n"
   ]
  },
  {
   "cell_type": "markdown",
   "id": "5588ac3c",
   "metadata": {},
   "source": [
    "# Python in Operator\n",
    "___"
   ]
  },
  {
   "cell_type": "code",
   "execution_count": 6,
   "id": "86dcef5c",
   "metadata": {},
   "outputs": [
    {
     "name": "stdout",
     "output_type": "stream",
     "text": [
      "True\n"
     ]
    }
   ],
   "source": [
    "x = [\"Python\", \"SQL\"]\n",
    "\n",
    "print(\"Python\" in x) # returns True because a sequence with the value \"Python\" is in the list\n"
   ]
  },
  {
   "cell_type": "markdown",
   "id": "5198c7d0",
   "metadata": {},
   "source": [
    "# Python not in Operator\n",
    "___"
   ]
  },
  {
   "cell_type": "code",
   "execution_count": 7,
   "id": "ebd98744",
   "metadata": {},
   "outputs": [
    {
     "name": "stdout",
     "output_type": "stream",
     "text": [
      "True\n"
     ]
    }
   ],
   "source": [
    "x = [\"Python\", \"SQL\"]\n",
    "\n",
    "print(\"MSexcel\" not in x)\n",
    "\n",
    "# returns True because a sequence with the value \"MSexcel\" is not in the list\n"
   ]
  },
  {
   "cell_type": "markdown",
   "id": "7be57f46",
   "metadata": {},
   "source": [
    "___\n",
    "\n",
    "<p style=\"text-align:right;\">\n",
    "    <em>Content Copyrighted by Puneett Bhatnagr</em>\n",
    "</p>"
   ]
  },
  {
   "cell_type": "code",
   "execution_count": null,
   "id": "e4e72620",
   "metadata": {},
   "outputs": [],
   "source": []
  }
 ],
 "metadata": {
  "kernelspec": {
   "display_name": "Python 3",
   "language": "python",
   "name": "python3"
  },
  "language_info": {
   "codemirror_mode": {
    "name": "ipython",
    "version": 3
   },
   "file_extension": ".py",
   "mimetype": "text/x-python",
   "name": "python",
   "nbconvert_exporter": "python",
   "pygments_lexer": "ipython3",
   "version": "3.8.8"
  }
 },
 "nbformat": 4,
 "nbformat_minor": 5
}
