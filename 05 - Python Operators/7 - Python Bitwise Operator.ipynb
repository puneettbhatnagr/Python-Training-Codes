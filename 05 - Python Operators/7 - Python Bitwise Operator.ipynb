{
 "cells": [
  {
   "cell_type": "markdown",
   "id": "80d7d826",
   "metadata": {},
   "source": [
    "<p style=\"text-align:right;\">\n",
    "    <em>Content Copyrighted by Puneett Bhatnagr</em>\n",
    "</p>\n"
   ]
  },
  {
   "cell_type": "markdown",
   "id": "5faad734",
   "metadata": {},
   "source": [
    "Bitwise operators perform operations at the bit level.\n",
    "\n",
    "These operators include bitwise AND, bitwise OR, bitwise XOR, and shift operators.\n",
    "\n",
    "Bitwise operators expect their operands to be of integers and treat them as a sequence of bits.\n",
    "\n",
    "# Python Bitwise Operator\n",
    "___\n",
    "\n",
    "<br>\n",
    "    \n",
    "<table class=\"table table-bordered\">\n",
    "    \n",
    "<tr>\n",
    "   <th style=\"width:10%; text-align: center;\">Operator</th>\n",
    "   <th style=\"width:10%; text-align: center;\">Name</th>\n",
    "   <th style=\"width:40%; text-align: center;\">Description</th>\n",
    "</tr>\n",
    "    \n",
    "<tr>\n",
    "<td style=\"text-align: center;\">&</td>\n",
    "<td style=\"text-align: center;\">AND</td>\n",
    "<td style=\"text-align: left;\">Sets each bit to 1 if both bits are 1</td>\n",
    "</tr>\n",
    "    \n",
    "<tr>\n",
    "<td style=\"text-align: center;\">|</td>\n",
    "<td style=\"text-align: center;\">OR</td>\n",
    "<td style=\"text-align: left;\">Sets each bit to 1 if one of two bits is 1</td>\n",
    "</tr>\n",
    "    \n",
    "<tr>\n",
    "<td style=\"text-align: center;\">^</td>\n",
    "<td style=\"text-align: center;\">XOR</td>\n",
    "<td style=\"text-align: left;\">Sets each bit to 1 if only one of two bits is 1</td>\n",
    "</tr>\n",
    "    \n",
    "<tr>\n",
    "<td style=\"text-align: center;\">~</td>\n",
    "<td style=\"text-align: center;\">NOT</td>\n",
    "<td style=\"text-align: left;\">Inverts all the bits</td>\n",
    "</tr>\n",
    "    \n",
    "<tr>\n",
    "<td style=\"text-align: center;\"> << </td>\n",
    "<td style=\"text-align: center;\">Zero fill left shift</td>\n",
    "<td style=\"text-align: left;\">Shift left by pushing zeros in from the right and let the leftmost bits fall off</td>\n",
    "</tr>\n",
    "    \n",
    "<tr>\n",
    "<td style=\"text-align: center;\"> >> </td>\n",
    "<td style=\"text-align: center;\">Signed right shift</td>\n",
    "<td style=\"text-align: left;\">Shift right by pushing copies of the leftmost bit in from the left, and let the rightmost bits fall off</td>\n",
    "</tr>\n",
    "    \n",
    "</table>    \n",
    "    \n"
   ]
  },
  {
   "cell_type": "markdown",
   "id": "7be57f46",
   "metadata": {},
   "source": [
    "___\n",
    "\n",
    "<p style=\"text-align:right;\">\n",
    "    <em>Content Copyrighted by Puneett Bhatnagr</em>\n",
    "</p>"
   ]
  },
  {
   "cell_type": "code",
   "execution_count": null,
   "id": "819f7f48",
   "metadata": {},
   "outputs": [],
   "source": []
  }
 ],
 "metadata": {
  "kernelspec": {
   "display_name": "Python 3",
   "language": "python",
   "name": "python3"
  },
  "language_info": {
   "codemirror_mode": {
    "name": "ipython",
    "version": 3
   },
   "file_extension": ".py",
   "mimetype": "text/x-python",
   "name": "python",
   "nbconvert_exporter": "python",
   "pygments_lexer": "ipython3",
   "version": "3.8.8"
  }
 },
 "nbformat": 4,
 "nbformat_minor": 5
}
