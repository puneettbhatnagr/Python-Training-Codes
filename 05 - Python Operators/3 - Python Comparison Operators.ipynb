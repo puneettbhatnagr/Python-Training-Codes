{
 "cells": [
  {
   "cell_type": "markdown",
   "metadata": {},
   "source": [
    "<p style=\"text-align:right;\">\n",
    "    <em>Content Copyrighted by Puneett Bhatnagr</em>\n",
    "</p>"
   ]
  },
  {
   "cell_type": "markdown",
   "metadata": {},
   "source": [
    "# Comparison Operators \n",
    "___\n",
    "\n",
    "\n",
    "In this lecture, we will learn about Python's Comparison Operators and how to use them. \n",
    "\n",
    "Using these operators, we will compare two variables and output a Boolean value (True or False).\n",
    "\n",
    "You should have no trouble understanding these operators if you have any mathematical background.\n",
    "\n",
    "Following that, we'll go over several examples, starting with a table of the comparison operators:\n",
    "\n",
    "\n",
    "<h2> Comparison Operators Table</h2><p>  In the table below, a=2 and b=4.</p>\n"
   ]
  },
  {
   "cell_type": "markdown",
   "metadata": {},
   "source": [
    "<table class=\"table table-bordered\">\n",
    "<tr>\n",
    "    <th style=\"width:10%; text-align: center;\">Operator</th>\n",
    "    <th style=\"width:10%; text-align: center;\">Description</th>\n",
    "    <th style=\"width:10%; text-align: center;\">Example</th>\n",
    "</tr>\n",
    "    \n",
    "<tr>\n",
    "<td style=\"text-align: center;\">==</td>\n",
    "<td style=\"text-align: left;\">If the values of two operands are equal, then the condition becomes true.</td>\n",
    "<td style=\"text-align: center;\"> (a == b) is not true.</td>\n",
    "</tr>\n",
    "    \n",
    "<tr>\n",
    "<td style=\"text-align: center;\">!=</td>\n",
    "<td style=\"text-align: left;\">If values of two operands are not equal, then condition becomes true.</td>\n",
    "<td style=\"text-align: center;\">(a != b) is true</td>\n",
    "</tr>\n",
    "    \n",
    "<tr>\n",
    "<td style=\"text-align: center;\">&gt;</td>\n",
    "<td style=\"text-align: left;\">If the value of left operand is greater than the value of right operand, then condition becomes true.</td>\n",
    "<td style=\"text-align: center;\"> (a &gt; b) is not true.</td>\n",
    "</tr>\n",
    "    \n",
    "<tr>\n",
    "<td style=\"text-align: center;\">&lt;</td>\n",
    "<td style=\"text-align: left;\">If the value of left operand is less than the value of right operand, then condition becomes true.</td>\n",
    "<td style=\"text-align: center;\"> (a &lt; b) is true.</td>\n",
    "</tr>\n",
    "    \n",
    "<tr>\n",
    "<td style=\"text-align: center;\">&gt;=</td>\n",
    "<td style=\"text-align: left;\">If the value of left operand is greater than or equal to the value of right operand, then condition becomes true.</td>\n",
    "<td style=\"text-align: center;\"> (a &gt;= b) is not true. </td>\n",
    "</tr>\n",
    "    \n",
    "<tr>\n",
    "<td style=\"text-align: center;\">&lt;=</td>\n",
    "<td style=\"text-align: left;\">If the value of left operand is less than or equal to the value of right operand, then condition becomes true.</td>\n",
    "<td style=\"text-align: center;\"> (a &lt;= b) is true. </td>\n",
    "</tr>\n",
    "    \n",
    "</table>    \n",
    "    \n"
   ]
  },
  {
   "cell_type": "markdown",
   "metadata": {},
   "source": [
    "<h2>Equal Operator</h2>"
   ]
  },
  {
   "cell_type": "markdown",
   "metadata": {},
   "source": [
    "<table class=\"table table-bordered\">\n",
    "<tr>\n",
    "   <th style=\"width:10%; text-align: center;\">Operator</th>\n",
    "   <th style=\"width:10%; text-align: center;\">Description</th>\n",
    "   <th style=\"width:10%; text-align: center;\">Example</th>\n",
    "</tr>\n",
    "<tr>\n",
    "<td style=\"text-align: center;\">==</td>\n",
    "<td style=\"text-align: left;\">If the values of two operands are equal, then the condition becomes true.</td>\n",
    "<td style=\"text-align: center;\"> (a == b) is not true.</td>\n",
    "</tr>\n",
    "</table>    \n",
    "    \n"
   ]
  },
  {
   "cell_type": "code",
   "execution_count": 1,
   "metadata": {},
   "outputs": [
    {
     "data": {
      "text/plain": [
       "True"
      ]
     },
     "execution_count": 1,
     "metadata": {},
     "output_type": "execute_result"
    }
   ],
   "source": [
    "4 == 4"
   ]
  },
  {
   "cell_type": "code",
   "execution_count": 2,
   "metadata": {},
   "outputs": [
    {
     "data": {
      "text/plain": [
       "False"
      ]
     },
     "execution_count": 2,
     "metadata": {},
     "output_type": "execute_result"
    }
   ],
   "source": [
    "4 == 0"
   ]
  },
  {
   "cell_type": "markdown",
   "metadata": {},
   "source": [
    "Note that <code>==</code> is a <em>comparison</em> operator, while <code>=</code> is an <em>assignment</em> operator."
   ]
  },
  {
   "cell_type": "markdown",
   "metadata": {},
   "source": [
    "<h2> Not Equal Operator</h2>\n",
    "\n",
    "<table class=\"table table-bordered\">\n",
    "<tr>\n",
    "   <th style=\"width:10%; text-align: center;\">Operator</th>\n",
    "   <th style=\"width:10%; text-align: center;\">Description</th>\n",
    "   <th style=\"width:10%; text-align: center;\">Example</th>\n",
    "</tr>\n",
    "\n",
    "<tr>\n",
    "<td style=\"text-align: center;\">!=</td>\n",
    "<td style=\"text-align: left;\">If values of two operands are not equal, then condition becomes true.</td>\n",
    "<td style=\"text-align: center;\">(a != b) is true</td>\n",
    "</tr>\n",
    "\n",
    "</table>    \n",
    "    \n"
   ]
  },
  {
   "cell_type": "code",
   "execution_count": 3,
   "metadata": {},
   "outputs": [
    {
     "data": {
      "text/plain": [
       "True"
      ]
     },
     "execution_count": 3,
     "metadata": {},
     "output_type": "execute_result"
    }
   ],
   "source": [
    "6 != 1"
   ]
  },
  {
   "cell_type": "code",
   "execution_count": 4,
   "metadata": {},
   "outputs": [
    {
     "data": {
      "text/plain": [
       "False"
      ]
     },
     "execution_count": 4,
     "metadata": {},
     "output_type": "execute_result"
    }
   ],
   "source": [
    "3 != 3"
   ]
  },
  {
   "cell_type": "markdown",
   "metadata": {},
   "source": [
    "<h2>Greater Than Operator</h2>\n",
    "\n",
    "<table class=\"table table-bordered\">\n",
    "<tr>\n",
    "   <th style=\"width:10%; text-align: center;\">Operator</th>\n",
    "   <th style=\"width:10%; text-align: center;\">Description</th>\n",
    "   <th style=\"width:10%; text-align: center;\">Example</th>\n",
    "</tr>\n",
    "\n",
    "<td style=\"text-align: center;\">&gt;</td>\n",
    "<td style=\"text-align: left;\">If the value of left operand is greater than the value of right operand, then condition becomes true.</td>\n",
    "<td style=\"text-align: center;\"> (a &gt; b) is not true.</td>\n",
    "</tr>\n",
    "</table>    \n",
    "    \n"
   ]
  },
  {
   "cell_type": "code",
   "execution_count": 56,
   "metadata": {},
   "outputs": [
    {
     "data": {
      "text/plain": [
       "True"
      ]
     },
     "execution_count": 56,
     "metadata": {},
     "output_type": "execute_result"
    }
   ],
   "source": [
    "3 > 2"
   ]
  },
  {
   "cell_type": "code",
   "execution_count": 57,
   "metadata": {},
   "outputs": [
    {
     "data": {
      "text/plain": [
       "False"
      ]
     },
     "execution_count": 57,
     "metadata": {},
     "output_type": "execute_result"
    }
   ],
   "source": [
    "4 > 6"
   ]
  },
  {
   "cell_type": "markdown",
   "metadata": {},
   "source": [
    "<h2> Less Than Operator</h2>\n",
    "\n",
    "<table class=\"table table-bordered\">\n",
    "<tr>\n",
    "   <th style=\"width:10%; text-align: center;\">Operator</th>\n",
    "   <th style=\"width:10%; text-align: center;\">Description</th>\n",
    "   <th style=\"width:10%; text-align: center;\">Example</th>\n",
    "</tr>\n",
    "\n",
    "<tr>\n",
    "<td style=\"text-align: center;\">&lt;</td>\n",
    "<td style=\"text-align: left;\">If the value of left operand is less than the value of right operand, then condition becomes true.</td>\n",
    "<td style=\"text-align: center;\"> (a &lt; b) is true.</td>\n",
    "</tr>\n",
    "</table>    \n",
    "    \n"
   ]
  },
  {
   "cell_type": "code",
   "execution_count": 58,
   "metadata": {},
   "outputs": [
    {
     "data": {
      "text/plain": [
       "True"
      ]
     },
     "execution_count": 58,
     "metadata": {},
     "output_type": "execute_result"
    }
   ],
   "source": [
    "4 < 6"
   ]
  },
  {
   "cell_type": "code",
   "execution_count": 59,
   "metadata": {},
   "outputs": [
    {
     "data": {
      "text/plain": [
       "False"
      ]
     },
     "execution_count": 59,
     "metadata": {},
     "output_type": "execute_result"
    }
   ],
   "source": [
    "2 < 1"
   ]
  },
  {
   "cell_type": "markdown",
   "metadata": {},
   "source": [
    "<h2> Greater Than or Equal to Operator</h2>\n",
    "<table class=\"table table-bordered\">\n",
    "<tr>\n",
    "   <th style=\"width:10%; text-align: center;\">Operator</th>\n",
    "   <th style=\"width:10%; text-align: center;\">Description</th>\n",
    "   <th style=\"width:10%; text-align: center;\">Example</th>\n",
    "</tr>\n",
    "\n",
    "<tr>\n",
    "<td style=\"text-align: center;\">&gt;=</td>\n",
    "<td style=\"text-align: left;\">If the value of left operand is greater than or equal to the value of right operand, then condition becomes true.</td>\n",
    "<td style=\"text-align: center;\"> (a &gt;= b) is not true. </td>\n",
    "</tr>\n",
    "\n",
    "</table>    \n",
    "    \n"
   ]
  },
  {
   "cell_type": "code",
   "execution_count": 60,
   "metadata": {},
   "outputs": [
    {
     "data": {
      "text/plain": [
       "True"
      ]
     },
     "execution_count": 60,
     "metadata": {},
     "output_type": "execute_result"
    }
   ],
   "source": [
    "2 >= 2"
   ]
  },
  {
   "cell_type": "code",
   "execution_count": 61,
   "metadata": {},
   "outputs": [
    {
     "data": {
      "text/plain": [
       "True"
      ]
     },
     "execution_count": 61,
     "metadata": {},
     "output_type": "execute_result"
    }
   ],
   "source": [
    "2 >= 1"
   ]
  },
  {
   "cell_type": "markdown",
   "metadata": {},
   "source": [
    "<h2> Less than or Equal to Operator</h2>\n",
    "<table class=\"table table-bordered\">\n",
    "<tr>\n",
    "   <th style=\"width:10%; text-align: center;\">Operator</th>\n",
    "   <th style=\"width:10%; text-align: center;\">Description</th>\n",
    "   <th style=\"width:10%; text-align: center;\">Example</th>\n",
    "</tr>\n",
    "    \n",
    "<tr>\n",
    "<td style=\"text-align: center;\">&lt;=</td>\n",
    "<td style=\"text-align: left;\">If the value of left operand is less than or equal to the value of right operand, then condition becomes true.</td>\n",
    "<td style=\"text-align: center;\"> (a &lt;= b) is true. </td>\n",
    "</tr>\n",
    "</table>    \n",
    "    \n"
   ]
  },
  {
   "cell_type": "code",
   "execution_count": 62,
   "metadata": {},
   "outputs": [
    {
     "data": {
      "text/plain": [
       "True"
      ]
     },
     "execution_count": 62,
     "metadata": {},
     "output_type": "execute_result"
    }
   ],
   "source": [
    "2 <= 2"
   ]
  },
  {
   "cell_type": "code",
   "execution_count": 63,
   "metadata": {},
   "outputs": [
    {
     "data": {
      "text/plain": [
       "True"
      ]
     },
     "execution_count": 63,
     "metadata": {},
     "output_type": "execute_result"
    }
   ],
   "source": [
    "2 <= 4"
   ]
  },
  {
   "cell_type": "markdown",
   "metadata": {},
   "source": [
    "Great!\n",
    "\n",
    "Go over each comparison operator to make sure you understand what each one is saying.\n",
    "\n",
    "But hopefully this was straightforward for you.\n",
    "\n",
    "In Next session, we will cover <b>Chained Comparison Operators</b>."
   ]
  },
  {
   "cell_type": "markdown",
   "metadata": {},
   "source": [
    "___\n",
    "\n",
    "<p style=\"text-align:right;\">\n",
    "    <em>Content Copyrighted by Puneett Bhatnagr</em>\n",
    "</p>"
   ]
  },
  {
   "cell_type": "code",
   "execution_count": null,
   "metadata": {},
   "outputs": [],
   "source": []
  }
 ],
 "metadata": {
  "kernelspec": {
   "display_name": "Python 3",
   "language": "python",
   "name": "python3"
  },
  "language_info": {
   "codemirror_mode": {
    "name": "ipython",
    "version": 3
   },
   "file_extension": ".py",
   "mimetype": "text/x-python",
   "name": "python",
   "nbconvert_exporter": "python",
   "pygments_lexer": "ipython3",
   "version": "3.8.8"
  }
 },
 "nbformat": 4,
 "nbformat_minor": 1
}
