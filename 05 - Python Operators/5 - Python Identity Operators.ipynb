{
 "cells": [
  {
   "cell_type": "markdown",
   "id": "80d7d826",
   "metadata": {},
   "source": [
    "<p style=\"text-align:right;\">\n",
    "    <em>Content Copyrighted by Puneett Bhatnagr</em>\n",
    "</p>\n",
    "\n",
    "# Python Identity Operators\n",
    "___\n",
    "\n",
    "Identity operators are used to compare the objects, not if they are equal, but if they are actually the same object, with the same memory location:"
   ]
  },
  {
   "cell_type": "markdown",
   "id": "5faad734",
   "metadata": {},
   "source": [
    "<table class=\"table table-bordered\">\n",
    "    \n",
    "<tr>\n",
    "   <th style=\"width:10%; text-align: center;\">Operator</th>\n",
    "   <th style=\"width:10%; text-align: center;\">Description</th>\n",
    "   <th style=\"width:10%; text-align: center;\">Example</th>\n",
    "</tr>\n",
    "    \n",
    "<tr>\n",
    "<td style=\"text-align: center;\">is</td>\n",
    "<td style=\"text-align: left;\">Returns True if both variables are the same object</td>\n",
    "<td style=\"text-align: center;\">x is y</td>\n",
    "</tr>\n",
    "    \n",
    "<tr>\n",
    "<td style=\"text-align: center;\">is not</td>\n",
    "<td style=\"text-align: left;\">Returns True if both variables are not the same object</td>\n",
    "<td style=\"text-align: center;\">x is not y</td>\n",
    "</tr>\n",
    "    \n",
    "</table>    \n",
    "    \n"
   ]
  },
  {
   "cell_type": "markdown",
   "id": "e8e1f32a",
   "metadata": {},
   "source": [
    "# is Operator\n",
    "___\n"
   ]
  },
  {
   "cell_type": "code",
   "execution_count": 3,
   "id": "85ac0d7e",
   "metadata": {},
   "outputs": [
    {
     "name": "stdout",
     "output_type": "stream",
     "text": [
      "True\n",
      "False\n",
      "True\n"
     ]
    }
   ],
   "source": [
    "x = [\"apple\", \"banana\"]\n",
    "y = [\"apple\", \"banana\"]\n",
    "z = x\n",
    "\n",
    "print(x is z)\n",
    "\n",
    "# returns True because z is the same object as x\n",
    "\n",
    "print(x is y)\n",
    "\n",
    "# returns False because x is not the same object as y, even if they have the same content\n",
    "\n",
    "print(x == y)\n",
    "\n",
    "# to demonstrate the difference betweeen \"is\" and \"==\": this comparison returns True because x is equal to y\n"
   ]
  },
  {
   "cell_type": "markdown",
   "id": "d386de25",
   "metadata": {},
   "source": [
    "# is not Operator\n",
    "___\n"
   ]
  },
  {
   "cell_type": "code",
   "execution_count": 4,
   "id": "1f8cd267",
   "metadata": {},
   "outputs": [
    {
     "name": "stdout",
     "output_type": "stream",
     "text": [
      "False\n",
      "True\n",
      "False\n"
     ]
    }
   ],
   "source": [
    "x = [\"apple\", \"banana\"]\n",
    "y = [\"apple\", \"banana\"]\n",
    "z = x\n",
    "\n",
    "print(x is not z)\n",
    "\n",
    "# returns False because z is the same object as x\n",
    "\n",
    "print(x is not y)\n",
    "\n",
    "# returns True because x is not the same object as y, even if they have the same content\n",
    "\n",
    "print(x != y)\n",
    "\n",
    "# to demonstrate the difference betweeen \"is not\" and \"!=\": this comparison returns False because x is equal to y\n"
   ]
  },
  {
   "cell_type": "markdown",
   "id": "7be57f46",
   "metadata": {},
   "source": [
    "___\n",
    "\n",
    "<p style=\"text-align:right;\">\n",
    "    <em>Content Copyrighted by Puneett Bhatnagr</em>\n",
    "</p>"
   ]
  },
  {
   "cell_type": "code",
   "execution_count": null,
   "id": "e4e72620",
   "metadata": {},
   "outputs": [],
   "source": []
  }
 ],
 "metadata": {
  "kernelspec": {
   "display_name": "Python 3",
   "language": "python",
   "name": "python3"
  },
  "language_info": {
   "codemirror_mode": {
    "name": "ipython",
    "version": 3
   },
   "file_extension": ".py",
   "mimetype": "text/x-python",
   "name": "python",
   "nbconvert_exporter": "python",
   "pygments_lexer": "ipython3",
   "version": "3.8.8"
  }
 },
 "nbformat": 4,
 "nbformat_minor": 5
}
