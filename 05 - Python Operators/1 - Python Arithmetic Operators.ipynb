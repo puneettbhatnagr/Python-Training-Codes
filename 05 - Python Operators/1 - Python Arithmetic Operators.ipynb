{
 "cells": [
  {
   "cell_type": "markdown",
   "id": "80d7d826",
   "metadata": {},
   "source": [
    "<p style=\"text-align:right;\">\n",
    "    <em>Content Copyrighted by Puneett Bhatnagr</em>\n",
    "</p>\n",
    "\n",
    "# Python Arithmetic Operators\n",
    "___\n"
   ]
  },
  {
   "cell_type": "markdown",
   "id": "5faad734",
   "metadata": {},
   "source": [
    "Arithmetic operators are used with numeric values to perform common mathematical operations:\n",
    "\n",
    "<br>\n",
    "\n",
    "<table class=\"table table-bordered\"; style=\"margin-left: 0px;\">\n",
    "    \n",
    "<tr>\n",
    "    <th style=\"width:10%; text-align: center;\">Operator</th>\n",
    "    <th style=\"width:20%; text-align: left;\">Name</th>\n",
    "    <th style=\"width:20%; text-align: center;\">Example</th>\n",
    "</tr>\n",
    "\n",
    "   \n",
    "    \n",
    "<tr>\n",
    "<td style=\"text-align: center;\">+</td>\n",
    "<td style=\"text-align: left;\"><b>Addition</b> - Adds values on either side of the operator.</td>\n",
    "<td style=\"text-align: center;\">x + y</td>\n",
    "</tr>\n",
    "    \n",
    "<tr>\n",
    "<td style=\"text-align: center;\">-</td>\n",
    "<td style=\"text-align: left;\"><b>Subtraction</b> - Subtracts right hand operand from left hand operand.</td>\n",
    "<td style=\"text-align: center;\">x - y</td>\n",
    "</tr>\n",
    "\n",
    "<tr>\n",
    "<td style=\"text-align: center;\">*</td>\n",
    "<td style=\"text-align: left;\"><b>Multiplication</b> - Multiplies values on either side of the operator</td>\n",
    "<td style=\"text-align: center;\">x * y</td>\n",
    "</tr>\n",
    "\n",
    "<tr>\n",
    "<td style=\"text-align: center;\">/</td>\n",
    "<td style=\"text-align: left;\"><b>Division</b> - Divides left hand operand by right hand operand</td>\n",
    "<td style=\"text-align: center;\">x / y</td>\n",
    "</tr>\n",
    "\n",
    "<tr>\n",
    "<td style=\"text-align: center;\">%</td>\n",
    "<td style=\"text-align: left;\"><b>Modulus</b> - Divides left hand operand by right hand operand and returns remainder</td>\n",
    "<td style=\"text-align: center;\">x % y</td>\n",
    "</tr>\n",
    "    \n",
    "<tr>\n",
    "<td style=\"text-align: center;\">**</td>\n",
    "<td style=\"text-align: left;\"><b>Exponentiation</b> - Performs exponential (power) calculation on operators</td>\n",
    "<td style=\"text-align: center;\">x ** y</td>\n",
    "</tr>\n",
    "    \n",
    "<tr>\n",
    "<td style=\"text-align: center;\">//</td>\n",
    "<td style=\"text-align: left;\"><b>Floor division</b>- The division of operands where the result is the quotient in which the digits after the decimal point are removed. But if one of the operands is negative, the result is floored, i.e., rounded away from zero (towards negative infinity)</td>\n",
    "<td style=\"text-align: center;\">x // y</td>\n",
    "</tr>\n",
    "    \n",
    "</table>    \n",
    "    \n"
   ]
  },
  {
   "cell_type": "code",
   "execution_count": 5,
   "id": "ba799cba",
   "metadata": {},
   "outputs": [
    {
     "name": "stdout",
     "output_type": "stream",
     "text": [
      "15\n",
      "-5\n",
      "50\n",
      "0.5\n",
      "5\n",
      "9765625\n",
      "0\n"
     ]
    }
   ],
   "source": [
    "x = 5\n",
    "y = 10\n",
    "\n",
    "print(x+y) # Addition \n",
    "print(x-y) # Subtraction\n",
    "print(x*y) # Multiplication\n",
    "print(x/y) # Division\n",
    "print(x%y) # Modulus\n",
    "print(x**y) # Exponentiation\n",
    "print(x//y) # Floor division\n"
   ]
  },
  {
   "cell_type": "markdown",
   "id": "7be57f46",
   "metadata": {},
   "source": [
    "___\n",
    "\n",
    "<p style=\"text-align:right;\">\n",
    "    <em>Content Copyrighted by Puneett Bhatnagr</em>\n",
    "</p>"
   ]
  },
  {
   "cell_type": "code",
   "execution_count": null,
   "id": "e4e72620",
   "metadata": {},
   "outputs": [],
   "source": []
  }
 ],
 "metadata": {
  "kernelspec": {
   "display_name": "Python 3",
   "language": "python",
   "name": "python3"
  },
  "language_info": {
   "codemirror_mode": {
    "name": "ipython",
    "version": 3
   },
   "file_extension": ".py",
   "mimetype": "text/x-python",
   "name": "python",
   "nbconvert_exporter": "python",
   "pygments_lexer": "ipython3",
   "version": "3.8.8"
  }
 },
 "nbformat": 4,
 "nbformat_minor": 5
}
