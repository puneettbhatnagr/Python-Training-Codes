{
 "cells": [
  {
   "cell_type": "markdown",
   "id": "408f6d8b",
   "metadata": {},
   "source": [
    "<p style=\"text-align:right;\">\n",
    "    <em>Content Copyrighted by Puneett Bhatnagr</em>\n",
    "</p>"
   ]
  },
  {
   "cell_type": "markdown",
   "id": "acebf0cd",
   "metadata": {},
   "source": [
    "# My First Python Program!\n",
    "___\n",
    "\n",
    "Lets start with our 1st Python Program\n"
   ]
  },
  {
   "cell_type": "code",
   "execution_count": 6,
   "id": "f166cf7c",
   "metadata": {},
   "outputs": [
    {
     "name": "stdout",
     "output_type": "stream",
     "text": [
      "hello Python\n"
     ]
    }
   ],
   "source": [
    "print('hello Python')"
   ]
  },
  {
   "cell_type": "markdown",
   "id": "04973141",
   "metadata": {},
   "source": [
    "# Single Line Comments\n",
    "\n",
    "Can appear either in an individual line or inline with some other code.\n"
   ]
  },
  {
   "cell_type": "code",
   "execution_count": 7,
   "id": "27374d03",
   "metadata": {},
   "outputs": [
    {
     "name": "stdout",
     "output_type": "stream",
     "text": [
      "10\n"
     ]
    }
   ],
   "source": [
    "# multiplying two variables\n",
    "a = 2\n",
    "b = 5\n",
    "c = a*b\n",
    "print(c) # printing result\n"
   ]
  },
  {
   "cell_type": "markdown",
   "id": "4612973c",
   "metadata": {},
   "source": [
    "# Multi Line Comments\n",
    "\n",
    "Can appear anywhere but each line should be prefixed by # character."
   ]
  },
  {
   "cell_type": "code",
   "execution_count": 10,
   "id": "855f75b9",
   "metadata": {},
   "outputs": [
    {
     "name": "stdout",
     "output_type": "stream",
     "text": [
      "7\n"
     ]
    }
   ],
   "source": [
    "# Adding two variables\n",
    "# printing sum of two variables\n",
    "a = 2\n",
    "b = 5\n",
    "c = a+b\n",
    "print(c) # printing result\n"
   ]
  },
  {
   "cell_type": "markdown",
   "id": "07d4fa15",
   "metadata": {},
   "source": [
    "# Python docstring Comments\n",
    "\n",
    "Documentation strings written within quotes that act as comments.\n"
   ]
  },
  {
   "cell_type": "code",
   "execution_count": 11,
   "id": "ed77babb",
   "metadata": {},
   "outputs": [
    {
     "name": "stdout",
     "output_type": "stream",
     "text": [
      "1.25\n"
     ]
    }
   ],
   "source": [
    "'''\n",
    "Using docstring as a comment.\n",
    "This code divides 2 numbers\n",
    "'''\n",
    "a = 5\n",
    "b = 4\n",
    "c = a/b\n",
    "print(c) # printing result\n"
   ]
  },
  {
   "cell_type": "markdown",
   "id": "a5db8008",
   "metadata": {},
   "source": [
    "___\n",
    "\n",
    "<p style=\"text-align:right;\">\n",
    "    <em>Content Copyrighted by Puneett Bhatnagr</em>\n",
    "</p>"
   ]
  }
 ],
 "metadata": {
  "kernelspec": {
   "display_name": "Python 3",
   "language": "python",
   "name": "python3"
  },
  "language_info": {
   "codemirror_mode": {
    "name": "ipython",
    "version": 3
   },
   "file_extension": ".py",
   "mimetype": "text/x-python",
   "name": "python",
   "nbconvert_exporter": "python",
   "pygments_lexer": "ipython3",
   "version": "3.8.8"
  }
 },
 "nbformat": 4,
 "nbformat_minor": 5
}
